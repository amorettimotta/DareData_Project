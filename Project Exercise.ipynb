{
 "cells": [
  {
   "cell_type": "code",
   "execution_count": 3,
   "id": "a0d9d44e-8b7d-4600-9fcb-5462846008f2",
   "metadata": {},
   "outputs": [
    {
     "name": "stdout",
     "output_type": "stream",
     "text": [
      "Requirement already satisfied: pytest in c:\\users\\anaam\\anaconda3\\lib\\site-packages (7.1.2)\n",
      "Requirement already satisfied: attrs>=19.2.0 in c:\\users\\anaam\\anaconda3\\lib\\site-packages (from pytest) (21.4.0)\n",
      "Requirement already satisfied: iniconfig in c:\\users\\anaam\\anaconda3\\lib\\site-packages (from pytest) (1.1.1)\n",
      "Requirement already satisfied: packaging in c:\\users\\anaam\\anaconda3\\lib\\site-packages (from pytest) (21.3)\n",
      "Requirement already satisfied: pluggy<2.0,>=0.12 in c:\\users\\anaam\\anaconda3\\lib\\site-packages (from pytest) (1.0.0)\n",
      "Requirement already satisfied: py>=1.8.2 in c:\\users\\anaam\\anaconda3\\lib\\site-packages (from pytest) (1.11.0)\n",
      "Requirement already satisfied: tomli>=1.0.0 in c:\\users\\anaam\\anaconda3\\lib\\site-packages (from pytest) (2.0.1)\n",
      "Requirement already satisfied: atomicwrites>=1.0 in c:\\users\\anaam\\anaconda3\\lib\\site-packages (from pytest) (1.4.0)\n",
      "Requirement already satisfied: colorama in c:\\users\\anaam\\anaconda3\\lib\\site-packages (from pytest) (0.4.5)\n",
      "Requirement already satisfied: pyparsing!=3.0.5,>=2.0.2 in c:\\users\\anaam\\anaconda3\\lib\\site-packages (from packaging->pytest) (3.0.9)\n",
      "Note: you may need to restart the kernel to use updated packages.\n"
     ]
    }
   ],
   "source": [
    "pip install pytest"
   ]
  },
  {
   "cell_type": "code",
   "execution_count": 4,
   "id": "afa7c2d6-5f40-46da-a7f9-38a8f00faf0e",
   "metadata": {},
   "outputs": [
    {
     "name": "stdout",
     "output_type": "stream",
     "text": [
      "Collecting pytest-cov\n",
      "  Downloading pytest_cov-4.1.0-py3-none-any.whl (21 kB)\n",
      "Requirement already satisfied: pytest>=4.6 in c:\\users\\anaam\\anaconda3\\lib\\site-packages (from pytest-cov) (7.1.2)\n",
      "Collecting coverage[toml]>=5.2.1\n",
      "  Downloading coverage-7.3.1-cp39-cp39-win_amd64.whl (204 kB)\n",
      "     -------------------------------------- 204.5/204.5 kB 2.1 MB/s eta 0:00:00\n",
      "Requirement already satisfied: tomli in c:\\users\\anaam\\anaconda3\\lib\\site-packages (from coverage[toml]>=5.2.1->pytest-cov) (2.0.1)\n",
      "Requirement already satisfied: attrs>=19.2.0 in c:\\users\\anaam\\anaconda3\\lib\\site-packages (from pytest>=4.6->pytest-cov) (21.4.0)\n",
      "Requirement already satisfied: iniconfig in c:\\users\\anaam\\anaconda3\\lib\\site-packages (from pytest>=4.6->pytest-cov) (1.1.1)\n",
      "Requirement already satisfied: packaging in c:\\users\\anaam\\anaconda3\\lib\\site-packages (from pytest>=4.6->pytest-cov) (21.3)\n",
      "Requirement already satisfied: pluggy<2.0,>=0.12 in c:\\users\\anaam\\anaconda3\\lib\\site-packages (from pytest>=4.6->pytest-cov) (1.0.0)\n",
      "Requirement already satisfied: py>=1.8.2 in c:\\users\\anaam\\anaconda3\\lib\\site-packages (from pytest>=4.6->pytest-cov) (1.11.0)\n",
      "Requirement already satisfied: atomicwrites>=1.0 in c:\\users\\anaam\\anaconda3\\lib\\site-packages (from pytest>=4.6->pytest-cov) (1.4.0)\n",
      "Requirement already satisfied: colorama in c:\\users\\anaam\\anaconda3\\lib\\site-packages (from pytest>=4.6->pytest-cov) (0.4.5)\n",
      "Requirement already satisfied: pyparsing!=3.0.5,>=2.0.2 in c:\\users\\anaam\\anaconda3\\lib\\site-packages (from packaging->pytest>=4.6->pytest-cov) (3.0.9)\n",
      "Installing collected packages: coverage, pytest-cov\n",
      "Successfully installed coverage-7.3.1 pytest-cov-4.1.0\n",
      "Note: you may need to restart the kernel to use updated packages.\n"
     ]
    }
   ],
   "source": [
    "pip install pytest-cov"
   ]
  },
  {
   "cell_type": "code",
   "execution_count": 5,
   "id": "b1ab05be-1117-4a1b-9030-4b5a2aa4e9cf",
   "metadata": {},
   "outputs": [
    {
     "name": "stdout",
     "output_type": "stream",
     "text": [
      "Obtaining file:///C:/Users/anaam/Ana%20Amorete/Learning/DareData/Projecto\n",
      "  Installing build dependencies: started\n",
      "  Installing build dependencies: finished with status 'done'\n",
      "  Checking if build backend supports build_editable: started\n",
      "  Checking if build backend supports build_editable: finished with status 'done'\n",
      "  Getting requirements to build editable: started\n",
      "  Getting requirements to build editable: finished with status 'done'\n",
      "  Installing backend dependencies: started\n",
      "  Installing backend dependencies: finished with status 'done'\n",
      "  Preparing editable metadata (pyproject.toml): started\n",
      "  Preparing editable metadata (pyproject.toml): finished with status 'done'\n",
      "Building wheels for collected packages: life-expectancy\n",
      "  Building editable for life-expectancy (pyproject.toml): started\n",
      "  Building editable for life-expectancy (pyproject.toml): finished with status 'done'\n",
      "  Created wheel for life-expectancy: filename=life_expectancy-0.1.0-0.editable-py3-none-any.whl size=3599 sha256=6c46326263b81e23fb1b88b7c73f7a467b79b0c417ca880c4f30f48ef08d49ad\n",
      "  Stored in directory: C:\\Users\\anaam\\AppData\\Local\\Temp\\pip-ephem-wheel-cache-0u2_rbgg\\wheels\\6a\\c1\\14\\f6eabd6f027ff7126f20ca2c78a0633a651a768fe48fe78b88\n",
      "Successfully built life-expectancy\n",
      "Installing collected packages: life-expectancy\n",
      "  Attempting uninstall: life-expectancy\n",
      "    Found existing installation: life-expectancy 0.1.0\n",
      "    Uninstalling life-expectancy-0.1.0:\n",
      "      Successfully uninstalled life-expectancy-0.1.0\n",
      "Successfully installed life-expectancy-0.1.0\n",
      "Note: you may need to restart the kernel to use updated packages.\n"
     ]
    }
   ],
   "source": [
    "pip install -e \"C:\\Users\\anaam\\Ana Amorete\\Learning\\DareData\\Projecto\""
   ]
  },
  {
   "cell_type": "code",
   "execution_count": 7,
   "id": "2a476dd4-27e3-46d6-96a5-a2cddf329110",
   "metadata": {},
   "outputs": [
    {
     "name": "stdout",
     "output_type": "stream",
     "text": [
      "============================= test session starts =============================\n",
      "platform win32 -- Python 3.9.13, pytest-7.1.2, pluggy-1.0.0\n",
      "rootdir: C:\\Users\\anaam\\Ana Amorete\\Learning\\DareData\\Projecto\n",
      "plugins: anyio-3.5.0, cov-4.1.0\n",
      "collected 3 items\n",
      "\n",
      "life_expectancy\\tests\\test_pyproject.py .F.                              [100%]\n",
      "\n",
      "================================== FAILURES ===================================\n",
      "_______________________________ test_pyproject ________________________________\n",
      "\n",
      "    def test_pyproject():\n",
      "        \"\"\"Test that the pyproject.toml is correct.\"\"\"\n",
      "        pyproject = toml.load(PROJECT_DIR / \"pyproject.toml\")\n",
      "    \n",
      "        authors = pyproject[\"project\"][\"authors\"]\n",
      "        has_new_author = False\n",
      "        for author in authors:\n",
      "            if not author[\"name\"].startswith(\"Fernando Cordeiro\"):\n",
      "                has_new_author = True\n",
      "    \n",
      "        assert pyproject[\"project\"][\"name\"] == \"life_expectancy\"\n",
      ">       assert has_new_author, (\n",
      "            \"The author of the package is not Fernando Cordeiro. You should \"\n",
      "            \"add your own name to the pyproject.toml file.\"\n",
      "        )\n",
      "E       AssertionError: The author of the package is not Fernando Cordeiro. You should add your own name to the pyproject.toml file.\n",
      "E       assert False\n",
      "\n",
      "life_expectancy\\tests\\test_pyproject.py:43: AssertionError\n",
      "=========================== short test summary info ===========================\n",
      "FAILED life_expectancy/tests/test_pyproject.py::test_pyproject - AssertionErr...\n",
      "========================= 1 failed, 2 passed in 0.34s =========================\n"
     ]
    }
   ],
   "source": [
    "!pytest life_expectancy/tests/test_pyproject.py\n"
   ]
  },
  {
   "cell_type": "code",
   "execution_count": null,
   "id": "84ac91d8-1d6d-4314-a94c-50660654c46f",
   "metadata": {},
   "outputs": [],
   "source": []
  }
 ],
 "metadata": {
  "kernelspec": {
   "display_name": "Python 3 (ipykernel)",
   "language": "python",
   "name": "python3"
  },
  "language_info": {
   "codemirror_mode": {
    "name": "ipython",
    "version": 3
   },
   "file_extension": ".py",
   "mimetype": "text/x-python",
   "name": "python",
   "nbconvert_exporter": "python",
   "pygments_lexer": "ipython3",
   "version": "3.9.13"
  }
 },
 "nbformat": 4,
 "nbformat_minor": 5
}
